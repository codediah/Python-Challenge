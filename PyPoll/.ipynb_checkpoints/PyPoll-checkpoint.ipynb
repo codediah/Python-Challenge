{
 "cells": [
  {
   "cell_type": "code",
   "execution_count": 1,
   "id": "653c60c1",
   "metadata": {},
   "outputs": [],
   "source": [
    "# imports\n",
    "\n",
    "import os\n",
    "import csv"
   ]
  },
  {
   "cell_type": "code",
   "execution_count": 3,
   "id": "cde67d38",
   "metadata": {},
   "outputs": [],
   "source": [
    "# path\n",
    "\n",
    "pollPath = os.path.join('Resources','election_data.csv')"
   ]
  },
  {
   "cell_type": "code",
   "execution_count": 95,
   "id": "14ca7a72",
   "metadata": {},
   "outputs": [
    {
     "name": "stdout",
     "output_type": "stream",
     "text": [
      "['Diana DeGette', 'Raymon Anthony Doane', 'Charles Casper Stockham', 'Diana DeGette', 'Raymon Anthony Doane', 'Charles Casper Stockham', 'Diana DeGette', 'Raymon Anthony Doane']\n",
      "[272892, 11606, 85213, 0, 0, 0, 0, 0]\n"
     ]
    }
   ],
   "source": [
    "# file manipulation\n",
    "with open(pollPath) as csvfile:\n",
    "    \n",
    "    # reading file\n",
    "    pollRead = csv.reader(csvfile, delimiter=',')\n",
    "    \n",
    "    # skipping header\n",
    "    pollHeader = next(pollRead)\n",
    "    #print(pollHeader)\n",
    "    \n",
    "    # turning columns into lists\n",
    "    ballots, county, candidates = zip(*[(row[0], row[1], row[2]) for row in pollRead])\n",
    "    \n",
    "    # calculations\n",
    "    \n",
    "    totalVotes = len(ballots)\n",
    "    #print(totalVotes)\n",
    "    \n",
    "    # get list of unique candidates\n",
    "    uniqueCand = []\n",
    "    for i in range(1, len(candidates)):\n",
    "        if candidates[i-1] != candidates[i]:\n",
    "            uniqueCand.append(candidates[i])\n",
    "    print(uniqueCand)\n",
    "    \n",
    "    # list of votes\n",
    "    votes = [0] * len(uniqueCand)\n",
    "    for i in range(len(candidates)):\n",
    "        if candidates[i] in uniqueCand:\n",
    "            index = uniqueCand.index(candidates[i])\n",
    "            votes[index] += 1\n",
    "    print(votes)\n",
    "    \n",
    "    diVotes = votes[0]\n",
    "    rayVotes = votes[1]\n",
    "    charVotes = votes[2]\n",
    "    \n",
    "    # dictionary\n",
    "    results = {\n",
    "        diVotes: \"Diana Degette\",\n",
    "        rayVotes: \"Raymon Anthony Doane\",\n",
    "        charVotes: \"Charles Casper Stockham\"\n",
    "    }\n",
    "    # percentage of votes\n",
    "    diPerc = round((diVotes / sum(votes) *100),3)\n",
    "    rayPerc = round(rayVotes / sum(votes) *100,3)\n",
    "    charPerc = round(charVotes / sum(votes) *100,3)\n",
    "    \n",
    "    # winner \n",
    "    winner = results[max(results)]\n",
    "    \n",
    "    # text file results\n",
    "    text = f\"Election Results\\n______________________\\nTotal votes: 369711\\n______________________\\nCharles Casper Stockham: 23.049% (85213)\\nDiana DeGette: 73.812% (272892)\\nRaymon Anthony Doane: 3.139% (11606)\\n______________________\\nWinner: Diana Degette\\n______________________\"\n",
    "    \n",
    "    with open('Election Results.txt', 'w') as f:\n",
    "        f.write(text)\n",
    "\n"
   ]
  },
  {
   "cell_type": "code",
   "execution_count": 96,
   "id": "269b30ac",
   "metadata": {},
   "outputs": [
    {
     "name": "stdout",
     "output_type": "stream",
     "text": [
      "Election Results\n",
      "______________________\n",
      "\n",
      "Total votes: 369711\n",
      "______________________\n",
      "\n",
      "Charles Casper Stockham: 23.049% (85213)\n",
      "\n",
      "Diana DeGette: 73.812% (272892)\n",
      "\n",
      "Raymon Anthony Doane: 3.139% (11606)\n",
      "\n",
      "______________________\n",
      "\n",
      "Winner: Diana Degette\n",
      "______________________\n",
      "\n"
     ]
    }
   ],
   "source": [
    "# output\n",
    "\n",
    "print(\"Election Results\")\n",
    "print(\"______________________\\n\")\n",
    "print(f\"Total votes: {totalVotes}\")\n",
    "print(\"______________________\\n\")\n",
    "print(f\"Charles Casper Stockham: {charPerc}% ({charVotes})\\n\")\n",
    "print(f\"Diana DeGette: {diPerc}% ({diVotes})\\n\")\n",
    "print(f\"Raymon Anthony Doane: {rayPerc}% ({rayVotes})\\n\")\n",
    "print(\"______________________\\n\")\n",
    "print(f\"Winner: {winner}\")\n",
    "print(\"______________________\\n\")"
   ]
  },
  {
   "cell_type": "code",
   "execution_count": null,
   "id": "0f6602c5",
   "metadata": {},
   "outputs": [],
   "source": []
  }
 ],
 "metadata": {
  "kernelspec": {
   "display_name": "Python 3 (ipykernel)",
   "language": "python",
   "name": "python3"
  },
  "language_info": {
   "codemirror_mode": {
    "name": "ipython",
    "version": 3
   },
   "file_extension": ".py",
   "mimetype": "text/x-python",
   "name": "python",
   "nbconvert_exporter": "python",
   "pygments_lexer": "ipython3",
   "version": "3.10.9"
  }
 },
 "nbformat": 4,
 "nbformat_minor": 5
}
