{
 "cells": [
  {
   "cell_type": "code",
   "execution_count": 143,
   "id": "e11d1faf",
   "metadata": {},
   "outputs": [
    {
     "name": "stdout",
     "output_type": "stream",
     "text": [
      "Financial Analysis\n",
      "____________________________\n",
      "Total Months: 86\n",
      "Total: $22564198\n",
      "Average Change: $-8311.11\n",
      "Greatest Increase in Profits: Mar-13, $1141840\n",
      "Greatest Decrease in Profits: Dec-10, $-1194133\n"
     ]
    }
   ],
   "source": [
    "# imports\n",
    "\n",
    "import os\n",
    "import csv\n",
    "\n",
    "bankPath = os.path.join('Resources', 'budget_data.csv')\n",
    "valChange = []\n",
    "\n",
    "with open(bankPath) as csvfile:\n",
    "    \n",
    "    # making the file usable\n",
    "    bankRead = csv.reader(csvfile,delimiter =',')\n",
    "    \n",
    "    # skipping header row\n",
    "    bankHeader = next(bankRead)\n",
    "    \n",
    "    # turning columns into lists to operate on\n",
    "    bankMonths, bankValues = zip(*[(row[0], int(row[1])) for row in bankRead])\n",
    "    #print(bankValues)\n",
    "    \n",
    "    # greatest increase and decrease\n",
    "    maxValue = max(bankValues)\n",
    "    minValue = min(bankValues)\n",
    "    \n",
    "    # date of greatest increase and decrease\n",
    "    dateMax = bankMonths[bankValues.index(maxValue)]\n",
    "    dateMin = bankMonths[bankValues.index(minValue)]\n",
    "    \n",
    "    # changes in Profit/Losses\n",
    "    for i in range(1,len(bankValues)):\n",
    "        valChange.append(bankValues[i] - bankValues[i-1]) \n",
    "       \n",
    "    # results\n",
    "    print(\"Financial Analysis\")\n",
    "    print(\"____________________________\")\n",
    "    print(f\"Total Months: {len(bankMonths)}\")\n",
    "    print(f\"Total: ${sum(bankValues)}\")\n",
    "    print(f\"Average Change: ${round((sum(valChange)/len(valChange)), 2)}\")\n",
    "    print(f\"Greatest Increase in Profits: {dateMax}, ${maxValue}\")\n",
    "    print(f\"Greatest Decrease in Profits: {dateMin}, ${minValue}\")\n"
   ]
  },
  {
   "cell_type": "code",
   "execution_count": null,
   "id": "16b1461a",
   "metadata": {},
   "outputs": [],
   "source": []
  }
 ],
 "metadata": {
  "kernelspec": {
   "display_name": "Python 3 (ipykernel)",
   "language": "python",
   "name": "python3"
  },
  "language_info": {
   "codemirror_mode": {
    "name": "ipython",
    "version": 3
   },
   "file_extension": ".py",
   "mimetype": "text/x-python",
   "name": "python",
   "nbconvert_exporter": "python",
   "pygments_lexer": "ipython3",
   "version": "3.10.9"
  }
 },
 "nbformat": 4,
 "nbformat_minor": 5
}
